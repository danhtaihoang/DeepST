{
 "cells": [
  {
   "cell_type": "code",
   "execution_count": 1,
   "metadata": {},
   "outputs": [],
   "source": [
    "import numpy as np\n",
    "import pandas as pd\n",
    "import matplotlib.pyplot as plt\n",
    "import os, sys\n",
    "\n",
    "from utils import *"
   ]
  },
  {
   "cell_type": "code",
   "execution_count": 2,
   "metadata": {},
   "outputs": [],
   "source": [
    "project = \"BRCA\"\n",
    "n_genes = 22884\n",
    "\n",
    "ik = 4"
   ]
  },
  {
   "cell_type": "code",
   "execution_count": 3,
   "metadata": {},
   "outputs": [],
   "source": [
    "il = 0\n",
    "tile_scores = np.load(\"tile_scores_%s_ik%s_il%s.npy\"%(project, ik, il), allow_pickle=True)"
   ]
  },
  {
   "cell_type": "code",
   "execution_count": 4,
   "metadata": {},
   "outputs": [],
   "source": [
    "il = 1\n",
    "tile_scores2 = np.load(\"tile_scores_%s_ik%s_il%s.npy\"%(project, ik, il), allow_pickle=True)"
   ]
  },
  {
   "cell_type": "code",
   "execution_count": 5,
   "metadata": {},
   "outputs": [
    {
     "name": "stdout",
     "output_type": "stream",
     "text": [
      "n_slides: 206\n"
     ]
    }
   ],
   "source": [
    "n_slides = len(tile_scores)\n",
    "print(\"n_slides:\", n_slides)"
   ]
  },
  {
   "cell_type": "code",
   "execution_count": 6,
   "metadata": {},
   "outputs": [
    {
     "name": "stdout",
     "output_type": "stream",
     "text": [
      "0\n",
      "1\n",
      "2\n",
      "3\n",
      "4\n",
      "5\n",
      "6\n",
      "7\n",
      "8\n",
      "9\n",
      "10\n",
      "11\n",
      "12\n",
      "13\n",
      "14\n",
      "15\n",
      "16\n",
      "17\n",
      "18\n",
      "19\n",
      "20\n",
      "21\n",
      "22\n",
      "23\n",
      "24\n",
      "25\n",
      "26\n",
      "27\n",
      "28\n",
      "29\n",
      "30\n",
      "31\n",
      "32\n",
      "33\n",
      "34\n",
      "35\n",
      "36\n",
      "37\n",
      "38\n",
      "39\n",
      "40\n",
      "41\n",
      "42\n",
      "43\n",
      "44\n",
      "45\n",
      "46\n",
      "47\n",
      "48\n",
      "49\n",
      "50\n",
      "51\n",
      "52\n",
      "53\n",
      "54\n",
      "55\n",
      "56\n",
      "57\n",
      "58\n",
      "59\n",
      "60\n",
      "61\n",
      "62\n",
      "63\n",
      "64\n",
      "65\n",
      "66\n",
      "67\n",
      "68\n",
      "69\n",
      "70\n",
      "71\n",
      "72\n",
      "73\n",
      "74\n",
      "75\n",
      "76\n",
      "77\n",
      "78\n",
      "79\n",
      "80\n",
      "81\n",
      "82\n",
      "83\n",
      "84\n",
      "85\n",
      "86\n",
      "87\n",
      "88\n",
      "89\n",
      "90\n",
      "91\n",
      "92\n",
      "93\n",
      "94\n",
      "95\n",
      "96\n",
      "97\n",
      "98\n",
      "99\n",
      "100\n",
      "101\n",
      "102\n",
      "103\n",
      "104\n",
      "105\n",
      "106\n",
      "107\n",
      "108\n",
      "109\n",
      "110\n",
      "111\n",
      "112\n",
      "113\n",
      "114\n",
      "115\n",
      "116\n",
      "117\n",
      "118\n",
      "119\n",
      "120\n",
      "121\n",
      "122\n",
      "123\n",
      "124\n",
      "125\n",
      "126\n",
      "127\n",
      "128\n",
      "129\n",
      "130\n",
      "131\n",
      "132\n",
      "133\n",
      "134\n",
      "135\n",
      "136\n",
      "137\n",
      "138\n",
      "139\n",
      "140\n",
      "141\n",
      "142\n",
      "143\n",
      "144\n",
      "145\n",
      "146\n",
      "147\n",
      "148\n",
      "149\n",
      "150\n",
      "151\n",
      "152\n",
      "153\n",
      "154\n",
      "155\n",
      "156\n",
      "157\n",
      "158\n",
      "159\n",
      "160\n",
      "161\n",
      "162\n",
      "163\n",
      "164\n",
      "165\n",
      "166\n",
      "167\n",
      "168\n",
      "169\n",
      "170\n",
      "171\n",
      "172\n",
      "173\n",
      "174\n",
      "175\n",
      "176\n",
      "177\n",
      "178\n",
      "179\n",
      "180\n",
      "181\n",
      "182\n",
      "183\n",
      "184\n",
      "185\n",
      "186\n",
      "187\n",
      "188\n",
      "189\n",
      "190\n",
      "191\n",
      "192\n",
      "193\n",
      "194\n",
      "195\n",
      "196\n",
      "197\n",
      "198\n",
      "199\n",
      "200\n",
      "201\n",
      "202\n",
      "203\n",
      "204\n",
      "205\n"
     ]
    }
   ],
   "source": [
    "coefs = np.zeros((n_slides, n_genes))\n",
    "for i0 in range(n_slides):\n",
    "    print(i0)\n",
    "    coefs[i0,:] = compute_coefs(tile_scores[i0][2], tile_scores2[i0][2])"
   ]
  },
  {
   "cell_type": "code",
   "execution_count": 7,
   "metadata": {},
   "outputs": [
    {
     "data": {
      "text/plain": [
       "(22884,)"
      ]
     },
     "execution_count": 7,
     "metadata": {},
     "output_type": "execute_result"
    }
   ],
   "source": [
    "coef_mean = coefs.mean(axis=0)\n",
    "coef_mean.shape"
   ]
  },
  {
   "cell_type": "code",
   "execution_count": 8,
   "metadata": {},
   "outputs": [
    {
     "data": {
      "image/png": "[encoded data removed]",
      "text/plain": [
       "<Figure size 252x216 with 1 Axes>"
      ]
     },
     "metadata": {
      "needs_background": "light"
     },
     "output_type": "display_data"
    }
   ],
   "source": [
    "nx,ny = 1,1\n",
    "fig, ax = plt.subplots(ny,nx,figsize=(nx*3.5,ny*3))\n",
    "\n",
    "ax.hist(coef_mean,bins=10,histtype='bar',rwidth=0.8)\n",
    "ax.set_xlabel(\"Mean of correlations\")\n",
    "ax.set_ylabel(\"Number of genes\")\n",
    "\n",
    "plt.tight_layout(h_pad=1, w_pad= 1.5)\n",
    "plt.savefig('coef_heatmap.pdf', format='pdf', dpi=50)"
   ]
  },
  {
   "cell_type": "code",
   "execution_count": 9,
   "metadata": {},
   "outputs": [
    {
     "name": "stdout",
     "output_type": "stream",
     "text": [
      "0.4 20602.0\n",
      "0.45 16931.0\n",
      "0.5 12180.0\n",
      "0.55 7860.0\n",
      "0.6000000000000001 4591.0\n",
      "0.65 2310.0\n",
      "0.7000000000000001 989.0\n",
      "0.75 326.0\n",
      "0.8 41.0\n",
      "0.8500000000000001 1.0\n",
      "0.9 0.0\n"
     ]
    }
   ],
   "source": [
    "## cumulative\n",
    "n_bins = 11\n",
    "x = np.linspace(0.4, 0.9, n_bins, endpoint=True)\n",
    "\n",
    "n = np.zeros(n_bins)\n",
    "for i, x1 in enumerate(x):\n",
    "    n[i] = np.sum(coef_mean > x1)\n",
    "    print(x1,n[i])"
   ]
  },
  {
   "cell_type": "code",
   "execution_count": 10,
   "metadata": {},
   "outputs": [],
   "source": [
    "np.savetxt(\"coef_heatmap_mean.txt\", coef_mean, fmt= \"%s\")"
   ]
  },
  {
   "cell_type": "code",
   "execution_count": 11,
   "metadata": {},
   "outputs": [],
   "source": [
    "np.save(\"coef_heatmap.npy\", coefs)"
   ]
  },
  {
   "cell_type": "code",
   "execution_count": 13,
   "metadata": {},
   "outputs": [
    {
     "name": "stdout",
     "output_type": "stream",
     "text": [
      "[ 4360   256  2480 ... 16361 18797 19228]\n"
     ]
    }
   ],
   "source": [
    "## best genes\n",
    "genes_coefs = np.loadtxt(\"220Nov21BRCA_nonrot_ik4_il0/R_sorted.txt\", dtype=\"str\")\n",
    "best_genes = genes_coefs[:,0]\n",
    "\n",
    "#print(\"best_genes:\", best_genes)\n",
    "genes = np.loadtxt(\"../15select_genes/%s_gene_active90_mediansorted_names.txt\"%project, dtype=\"str\")\n",
    "genes = genes[:,5]\n",
    "i_genes = np.array([np.argwhere(genes == best_gene)[0][0] for best_gene in best_genes])\n",
    "#i_genes = i_genes[:5]\n",
    "print(i_genes)"
   ]
  },
  {
   "cell_type": "code",
   "execution_count": 14,
   "metadata": {},
   "outputs": [],
   "source": [
    "slide_coefs = genes_coefs[:,1].astype(float)"
   ]
  },
  {
   "cell_type": "code",
   "execution_count": 15,
   "metadata": {},
   "outputs": [
    {
     "data": {
      "image/png": "[encoded data removed]",
      "text/plain": [
       "<Figure size 576x216 with 2 Axes>"
      ]
     },
     "metadata": {
      "needs_background": "light"
     },
     "output_type": "display_data"
    }
   ],
   "source": [
    "nx,ny = 2,1\n",
    "fig, ax = plt.subplots(ny,nx,figsize=(nx*4,ny*3))\n",
    "\n",
    "ax[0].hist(coef_mean,bins=10,histtype='bar',rwidth=0.8)\n",
    "ax[0].set_xlabel(\"Correlations\")\n",
    "ax[0].set_ylabel(\"Number of genes\")\n",
    "\n",
    "ax[1].plot(slide_coefs, coef_mean[i_genes], \"o\", markersize = \"1\")\n",
    "ax[1].set_xlabel(\"Predicted-actual correlations\")\n",
    "ax[1].set_ylabel(\"Tile-tile correlations\")\n",
    "\n",
    "plt.tight_layout(h_pad=1, w_pad= 1.5)\n",
    "plt.savefig('coef_heatmap.pdf', format='pdf', dpi=50)"
   ]
  },
  {
   "cell_type": "code",
   "execution_count": null,
   "metadata": {},
   "outputs": [],
   "source": []
  }
 ],
 "metadata": {
  "kernelspec": {
   "display_name": "Python 3",
   "language": "python",
   "name": "python3"
  },
  "language_info": {
   "codemirror_mode": {
    "name": "ipython",
    "version": 3
   },
   "file_extension": ".py",
   "mimetype": "text/x-python",
   "name": "python",
   "nbconvert_exporter": "python",
   "pygments_lexer": "ipython3",
   "version": "3.7.4"
  }
 },
 "nbformat": 4,
 "nbformat_minor": 4
}
